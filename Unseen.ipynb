{
 "cells": [
  {
   "cell_type": "code",
   "execution_count": 4,
   "metadata": {
    "collapsed": true
   },
   "outputs": [
    {
     "data": {
      "text/html": [
       "<script type=\"text/javascript\">window.PlotlyConfig = {MathJaxConfig: 'local'};</script><script type=\"text/javascript\">if (window.MathJax) {MathJax.Hub.Config({SVG: {font: \"STIX-Web\"}});}</script><script>requirejs.config({paths: { 'plotly': ['https://cdn.plot.ly/plotly-latest.min']},});if(!window._Plotly) {require(['plotly'],function(plotly) {window._Plotly=plotly;});}</script>"
      ],
      "text/vnd.plotly.v1+html": [
       "<script type=\"text/javascript\">window.PlotlyConfig = {MathJaxConfig: 'local'};</script><script type=\"text/javascript\">if (window.MathJax) {MathJax.Hub.Config({SVG: {font: \"STIX-Web\"}});}</script><script>requirejs.config({paths: { 'plotly': ['https://cdn.plot.ly/plotly-latest.min']},});if(!window._Plotly) {require(['plotly'],function(plotly) {window._Plotly=plotly;});}</script>"
      ]
     },
     "metadata": {},
     "output_type": "display_data"
    },
    {
     "name": "stdout",
     "output_type": "stream",
     "text": [
      "[35, 59, 84, 19, 8, 36, 46, 59, 33, 61, 61, 57, 71, 41, 2, 17, 36, 78, 24, 55, 52, 75, 76, 61, 23, 55, 81, 69, 10, 99, 34, 40, 41, 92, 31, 25, 10, 77, 86, 44, 41, 86, 65, 57, 99, 100, 83, 82, 24, 26, 6, 95, 23, 33, 98, 67, 56, 99, 72, 34, 52, 86, 70, 86, 3, 63, 11, 59, 2, 10, 73, 72, 26, 76, 34, 53, 101, 78, 8, 40, 26, 62, 35, 18, 82, 94, 93, 87, 101, 2, 13, 31, 56, 32, 30, 25, 85, 19, 1, 14]\n",
      "[2, 3, 1, 2, 2, 2, 1, 2, 3, 2, 1, 3, 3, 1, 2, 2, 2, 2, 1, 2, 2, 1, 1, 3, 3, 3, 2, 1, 2, 2, 1, 4, 1, 1, 1, 1, 2, 3, 1, 1, 1, 1, 2, 2, 1, 1, 1, 1, 1, 1, 2, 1, 1, 1, 1, 1, 1, 1, 1, 1, 1, 1]\n",
      "[19, 8, 34, 1]\n",
      "[2, 3, 1, 4]\n"
     ]
    },
    {
     "data": {
      "application/vnd.plotly.v1+json": {
       "config": {
        "linkText": "Export to plot.ly",
        "plotlyServerURL": "https://plot.ly",
        "showLink": true
       },
       "data": [
        {
         "type": "bar",
         "uid": "99127738-9ca4-4f94-b2c5-ee3f5161bc22",
         "x": [
          2,
          3,
          1,
          4
         ],
         "y": [
          19,
          8,
          34,
          1
         ]
        }
       ],
       "layout": {}
      },
      "text/html": [
       "<div id=\"92aea4c6-2260-43a7-baeb-adcd5b29db90\" style=\"height: 525px; width: 100%;\" class=\"plotly-graph-div\"></div><script type=\"text/javascript\">require([\"plotly\"], function(Plotly) { window.PLOTLYENV=window.PLOTLYENV || {};window.PLOTLYENV.BASE_URL=\"https://plot.ly\";Plotly.newPlot(\"92aea4c6-2260-43a7-baeb-adcd5b29db90\", [{\"x\": [2, 3, 1, 4], \"y\": [19, 8, 34, 1], \"type\": \"bar\", \"uid\": \"34500840-c507-4073-8f5c-63a247d07a4e\"}], {}, {\"showLink\": true, \"linkText\": \"Export to plot.ly\", \"plotlyServerURL\": \"https://plot.ly\"})});</script><script type=\"text/javascript\">window.addEventListener(\"resize\", function(){window._Plotly.Plots.resize(document.getElementById(\"92aea4c6-2260-43a7-baeb-adcd5b29db90\"));});</script>"
      ],
      "text/vnd.plotly.v1+html": [
       "<div id=\"92aea4c6-2260-43a7-baeb-adcd5b29db90\" style=\"height: 525px; width: 100%;\" class=\"plotly-graph-div\"></div><script type=\"text/javascript\">require([\"plotly\"], function(Plotly) { window.PLOTLYENV=window.PLOTLYENV || {};window.PLOTLYENV.BASE_URL=\"https://plot.ly\";Plotly.newPlot(\"92aea4c6-2260-43a7-baeb-adcd5b29db90\", [{\"x\": [2, 3, 1, 4], \"y\": [19, 8, 34, 1], \"type\": \"bar\", \"uid\": \"34500840-c507-4073-8f5c-63a247d07a4e\"}], {}, {\"showLink\": true, \"linkText\": \"Export to plot.ly\", \"plotlyServerURL\": \"https://plot.ly\"})});</script><script type=\"text/javascript\">window.addEventListener(\"resize\", function(){window._Plotly.Plots.resize(document.getElementById(\"92aea4c6-2260-43a7-baeb-adcd5b29db90\"));});</script>"
      ]
     },
     "metadata": {},
     "output_type": "display_data"
    },
    {
     "name": "stdout",
     "output_type": "stream",
     "text": [
      "[]\n"
     ]
    }
   ],
   "source": [
    "import numpy as np\n",
    "import collections\n",
    "import random\n",
    "import plotly.plotly as py\n",
    "import plotly.graph_objs as go\n",
    "from plotly.offline import download_plotlyjs, init_notebook_mode, plot, iplot\n",
    "init_notebook_mode(connected=True)\n",
    "\n",
    "\n",
    "l = []\n",
    "for x in range(100):\n",
    "  l.append(random.randint(1,101))\n",
    "  \n",
    "#print(l)\n",
    "\n",
    "val = []\n",
    "def makeFinger(val, l):\n",
    "    print(l)\n",
    "    counter=collections.Counter(l)\n",
    "    values = list(counter.values())\n",
    "    keys = list(counter.keys())\n",
    "    maxVal = max(values)\n",
    "    print(values)\n",
    "\n",
    "    counter2=collections.Counter(values)\n",
    "    values2 = list(counter2.values())\n",
    "    keys2 = list(counter2.keys())\n",
    "    print(values2) # values2[i] number of elements occurred keys2[i] times\n",
    "    # {f(i) ==> values2[i]} represents number of elements occurred {i ==> keys2[i]} times\n",
    "    print(keys2)\n",
    "    val = values2\n",
    "    data = [go.Bar(\n",
    "            x=keys2,\n",
    "            y=values2\n",
    "    )]\n",
    "\n",
    "    iplot(data, filename='basic-bar')\n",
    "    \n",
    "makeFinger(val, l)\n",
    "# print(values)\n",
    "# print(keys)\n",
    "\n",
    "print(val)"
   ]
  },
  {
   "cell_type": "code",
   "execution_count": null,
   "metadata": {},
   "outputs": [],
   "source": []
  },
  {
   "cell_type": "markdown",
   "metadata": {},
   "source": [
    "<h2>MAKE FINGERPRINT FUNCTION NEW EDIT</h2>"
   ]
  },
  {
   "cell_type": "code",
   "execution_count": 19,
   "metadata": {},
   "outputs": [],
   "source": [
    "def hist(samp_list, min_s, max_s):\n",
    "    h = [0] * (max_s - min_s + 1)\n",
    "    for i in samp_list:\n",
    "        h[i-min_s] += 1\n",
    "    return h\n",
    "\n",
    "def makeFingerPrint(samp_list):\n",
    "    max_s = max(samp_list)\n",
    "    min_s = min(samp_list)\n",
    "    h1 = hist(samp_list, min_s, max_s)\n",
    "    f = hist(h1, 0, max(h1))\n",
    "    f = f[1:]\n",
    "    return f"
   ]
  },
  {
   "cell_type": "code",
   "execution_count": 18,
   "metadata": {},
   "outputs": [
    {
     "name": "stdout",
     "output_type": "stream",
     "text": [
      "[3, 1]\n"
     ]
    }
   ],
   "source": [
    "makeFingerPrint([20,3,8,19,19])"
   ]
  },
  {
   "cell_type": "code",
   "execution_count": 6,
   "metadata": {},
   "outputs": [],
   "source": [
    "if '1' in h:\n",
    "    print('Hello')"
   ]
  },
  {
   "cell_type": "code",
   "execution_count": null,
   "metadata": {},
   "outputs": [],
   "source": []
  },
  {
   "cell_type": "code",
   "execution_count": null,
   "metadata": {},
   "outputs": [],
   "source": []
  },
  {
   "cell_type": "code",
   "execution_count": 48,
   "metadata": {
    "collapsed": true
   },
   "outputs": [],
   "source": [
    "def unseen():\n",
    "    k = [25, 6, 32]\n",
    "    gridFactor = 1.05\n",
    "    alpha = .5\n",
    "#     xLPmin = 1/(k*max(10,k))\n",
    "#     min_i=min(k)\n",
    "#     print(min_i)\n",
    "#     if (min_i > 1):\n",
    "#         xLPmin = min_i/k\n",
    "#         print(xLPmin)\n",
    "unseen()"
   ]
  },
  {
   "cell_type": "code",
   "execution_count": null,
   "metadata": {
    "collapsed": true
   },
   "outputs": [],
   "source": []
  },
  {
   "cell_type": "code",
   "execution_count": null,
   "metadata": {
    "collapsed": true
   },
   "outputs": [],
   "source": [
    "def poisspdf(x, l):\n",
    "    v1 = math.pow(l, x)\n",
    "    v2 = math.factorial(x)\n",
    "    v3 = math.pow(math.e, -l)\n",
    "    final = (v1 / v2) * v3\n",
    "    return final"
   ]
  },
  {
   "cell_type": "code",
   "execution_count": 3,
   "metadata": {
    "collapsed": true
   },
   "outputs": [],
   "source": [
    "import numpy as np\n",
    "import math\n",
    "\n",
    "# Assume f is a matrix in the form of a list of the order f11 f21 f12 f22 for 2x2 matrix\n",
    "def entropyEstC(f):\n",
    "    sampleSize = 0\n",
    "    for i in range(0, len(f)):\n",
    "        sampleSize += (i + 1) * f[i]\n",
    "    print(\"Sample size = \" + str(sampleSize))\n",
    "    \n",
    "#     algorithm parameters:\n",
    "    gridFactor = 1.05 #the grid of probabilities will be geometric, with this ratio.\n",
    "#     setting this smaller may slightly increase accuracy, at the cost of speed \n",
    "    alpha = .5 #the allowable discrepancy between the returned solution and the \"best\" (overfit).\n",
    "#     0.5 worked well in all examples we tried, though the results were nearly indistinguishable \n",
    "#     for any alpha between 0.25 and 1.  Decreasing alpha increases the chances of overfitting. \n",
    "    xLPmin = 1 / (sampleSize * max(10, sampleSize));\n",
    "    \n",
    "    min_i = -1\n",
    "    # find first non-zero index\n",
    "    for i in range(0, len(f)):\n",
    "        if(f[i] > 0):\n",
    "            min_i = i\n",
    "            break\n",
    "    print(xLPmin)\n",
    "    if min_i > 0:\n",
    "        xLPmin = (min_i + 1) / sampleSize # minimum allowable probability. \n",
    "#   a more aggressive bound like 1/k^1.5 would make the LP slightly faster,\n",
    "#   though at the cost of accuracy\n",
    "    maxLPIters = 1000; # the 'MaxIter' parameter for Matlab's 'linprog' LP solver.\n",
    "\n",
    "    print(xLPmin)\n",
    "    \n",
    "#   Split the fingerprint into the 'dense' portion for which we \n",
    "#   solve an LP to yield the corresponding histogram, and 'sparse' \n",
    "#   portion for which we simply use the empirical histogram\n",
    "    x=[0]\n",
    "    histx =[0]\n",
    "    \n",
    "    fLP = []\n",
    "    for i in range (0, max(1, len(f))):\n",
    "        fLP.append(0)\n",
    "        \n",
    "    for i in range (0, len(f)):\n",
    "        if f[i] > 0:\n",
    "            wind = [max(1, i + 1 - math.ceil(math.sqrt(i + 1))), min(i + 1 + math.ceil(math.sqrt(i + 1)), len(f))]\n",
    "            sumF = 0\n",
    "            for j in range (wind[0] - 1, wind[1]):\n",
    "                sumF += f[j]\n",
    "            if sumF < math.sqrt(i + 1): # 2*sqrt(i)\n",
    "                x = x.append((i + 1) / sampleSize)\n",
    "                histx.append(f[i])\n",
    "                fLP[i] = 0\n",
    "            else:\n",
    "                fLP[i] = f[i]\n",
    "    print(fLP)\n",
    "\n",
    "#   If no LP portion, return the empirical histogram and corrected empirical\n",
    "#   entropy\n",
    "    # find last non-zero index\n",
    "    fmax = len(fLP) - 1\n",
    "    while fmax >= 0:\n",
    "        if fLP[fmax] > 0:\n",
    "            break\n",
    "        else:\n",
    "            fmax -= 1\n",
    "            \n",
    "    \n",
    "    if fmax == -1:\n",
    "        x.pop(0)\n",
    "        histx.pop(0)\n",
    "        sumHistX = 0\n",
    "        for j in range (0, len(histx)):\n",
    "            sumHistX += histx[j]\n",
    "        logX = 0\n",
    "        for j in range (0, len(x)):\n",
    "            logxX += log(x[j]) * x[j] * histx[j]\n",
    "        ent = -logX + sumHistX / (2 * sampleSize)\n",
    "        return ent\n",
    "    \n",
    "    # Set up the first LP\n",
    "    LPmass = 0\n",
    "    for j in range (0, len(x)):\n",
    "        LPmass += x[j] * histx[j]\n",
    "    LPmass = 1 - LPmass #amount of probability mass in the LP region\n",
    "\n",
    "    fLP = fLP[0:fmax]\n",
    "    for i in range(0, math.ceil(math.sqrt(fmax))):\n",
    "        fLP.append(0)\n",
    "    szLPf = len(fLP)\n",
    "\n",
    "    xLP = []\n",
    "    xLPmax = fmax / sampleSize;\n",
    "    for j in range (0, math.ceil(math.log(xLPmax / xLPmin) / log(gridFactor)) + 1):\n",
    "        xlP.append(math.pow(gridFactor, j) * xLPmin)\n",
    "    \n",
    "    szLPx = len(xLP)\n",
    "    \n",
    "    #column array\n",
    "    objf = []\n",
    "    for j in range(0, szLPx + 2 * szLPf):\n",
    "        objf.append(0)\n",
    "        \n",
    "    # discrepancy in ith fingerprint expectation\n",
    "    k = 0\n",
    "    for j in range(szLPx + 1, len(objf), 2):\n",
    "        objf[j] = 1 / math.sqrt(fLP[k] + 1)\n",
    "        k += 1\n",
    "    # weighted by 1/sqrt(f(i) + 1)\n",
    "    k = 0\n",
    "    for j in range(szLPx + 2, len(objf), 2):\n",
    "        objf[j] = 1 / math.sqrt(fLP[k] + 1)\n",
    "        k += 1\n",
    "        \n",
    "    A = np.zeros(2 * szLPf, szLPx + 2 * szLPf)\n",
    "    \n",
    "    #column array\n",
    "    b = []\n",
    "    for j in range(0, 2 * szLPf):\n",
    "        b.append(0)\n",
    "        \n",
    "    for i in range (0, szLPf):\n",
    "        for j in range(0, szLPx):\n",
    "            A[2 * i - 1][j] = poisspdf(i, sampleSize * xLP[j])\n",
    "        for j in range(0, szLPx):\n",
    "            A[2 * i][j] = -1 * A[2 * i - 1][j]\n",
    "        A[2 * i - 1, szLPx + 2 * i - 1] = -1\n",
    "        A[2 * i][szLPx + 2 * i] = -1\n",
    "        b[2 * i - 1] = fLP[i]\n",
    "        b[2 * i] = -fLP[i]\n",
    "    \n",
    "    Aeq = []\n",
    "    for j in range(0, szLPx + 2 * szLPf):\n",
    "        Aeq.append(0)\n",
    "    for j in range(0, szLPx):\n",
    "        Aeq[j] = xLP\n",
    "    beq = LPmass\n",
    "\n",
    "    for i in range (0, szLPx):\n",
    "        for j in range(0, len(A[i])):\n",
    "            A[j][i] = A[j][i] / xLP[i] # rescaling for better conditioning\n",
    "        Aeq[i] = Aeq[i] / xLP[i]\n",
    "    \n",
    "    ##########################################TODO\n",
    "    options = optimset('MaxIter', maxLPIters,'Display','off');\n",
    "    \n",
    "    [sol, fval, exitflag, output] = linprog(objf, A, b, Aeq, beq, zeros(szLPx+2*szLPf,1), Inf*ones(szLPx+2*szLPf,1),[], options);\n",
    "    \n",
    "    \n",
    "    \n",
    "    \n",
    "    \n",
    "    if exitflag == 0:\n",
    "        print('maximum number of iterations reached--try increasing maxLPIters')\n",
    "        \n",
    "    if exitflag < 0:\n",
    "        print('LP1 solution was not found, still solving LP2 anyway...')\n",
    "        print(exitflag)\n",
    "        \n",
    "    \n",
    "#     Solve the 2nd LP, which minimizes support size subject to incurring at most\n",
    "#     alpha worse objective function value (of the objective function in the \n",
    "#     previous LP). \n",
    "\n",
    "    if min_i < 2:\n",
    "        objf2 = []\n",
    "        for j in range(0, len(objf)):\n",
    "            objf2.append(0)\n",
    "        for j in range(0, szLPx):\n",
    "            objf2[j] = 1\n",
    "        \n",
    "        # ensure at most alpha worse obj value\n",
    "        A2 = copy.deepcopy(A)\n",
    "        A2.append(copy.deepcopy(objf))\n",
    "        \n",
    "        # than solution of previous LP\n",
    "        b2 = copy.deepcopy(b)\n",
    "        b2.append(fval + alpha)\n",
    "        \n",
    "        \n",
    "        for i in range(0, szLPx):\n",
    "            objf2[i] = objf2[i] / xLP[i] # rescaling for better conditioning\n",
    "        \n",
    "        [sol2, fval2, exitflag2, output] = linprog(objf2, A2, b2, Aeq, beq, zeros(szLPx+2*szLPf,1), Inf*ones(szLPx+2*szLPf,1),[], options);\n",
    "\n",
    "        if not exitflag2 == 1:\n",
    "            print('LP2 solution was not found')\n",
    "            print(exitflag2)\n",
    "\n",
    "    else:\n",
    "        sol2 = sol\n",
    "\n",
    "    for i in range (0, szLPx):\n",
    "        sol2[i] = sol2[i] / xLP[i] # removing the scaling\n",
    "\n",
    "    # append LP solution to empirical portion of histogram\n",
    "\n",
    "    firstNonZeroIndex = -1\n",
    "    # find first non-zero index\n",
    "    for i in range(0, len(f)):\n",
    "        if(f[i] > 0):\n",
    "            firstNonZeroIndex = i\n",
    "            break\n",
    "    print(firstNonZeroIndex)\n",
    "    ent = 0\n",
    "    if firstNonZeroIndex == -1:\n",
    "        for j in range (0, szLPx):\n",
    "            ent += sol2[j] * -1 * xlp[j] * math.log(xLP[j])\n",
    "    else:\n",
    "        positiveHistXIndices = []\n",
    "        for j in range (0, len(histx)):\n",
    "            if histx[j] > 0:\n",
    "                positiveHistXIndices.append(histx[j])\n",
    "                \n",
    "        histXPositiveSum = 0\n",
    "        histXPositive = []\n",
    "        for j in range (0, len(positiveHistXIndices)):\n",
    "            histXPositive.append(histx[positiveHistXIndices[j]])\n",
    "            histXPositiveSum += histx[positiveHistXIndices[j]]\n",
    "        \n",
    "        positiveXIndices = []\n",
    "        for j in range (0, len(x)):\n",
    "            if x[j] > 0:\n",
    "                positiveXIndices.append(x[j])\n",
    "        \n",
    "        xPositive = []\n",
    "        for j in range (0, len(positiveXIndices)):\n",
    "            xPositive.append(x[positiveXIndices[j]])\n",
    "            \n",
    "        histXLogXProduct = 0\n",
    "        for j in range (0, len(histXPositive)):\n",
    "            histXLogXProduct -= histXPositive[j] * xPositive[j] * math.log(xPositive[j])\n",
    "            \n",
    "        sol2XLPProcut = 0\n",
    "        for j in range (0, szLPx):\n",
    "            sol2XLPProcut += sol2[j] * xLP[j] * math.log(xLP[j])\n",
    "        \n",
    "        ent = histXLogXProduct + histXPositiveSum / (2 * sampleSize) - sol2XLPProcut\n",
    "\n",
    "    for i in range (0, len(xLP)):\n",
    "        x.append(xLP[i])\n",
    "    for i in range (0, len(sol2)):\n",
    "        histx.append(sol2[i])\n",
    "    \n",
    "    ind = np.argsort(x)\n",
    "    x = sort(x)\n",
    "    \n",
    "    tempHistX = []\n",
    "    for i in range (0, len(histx)):\n",
    "        tempHistX.append(histx[ind[i]])\n",
    "    histx = tempHistX\n",
    "    \n",
    "    ind = []\n",
    "    for i in range (0, len(histx)):\n",
    "        if histx[i] > 0:\n",
    "            ind.append(histx[i])\n",
    "            \n",
    "    tempX = []\n",
    "    for i in range (0, len(ind)):\n",
    "        tempX.append(x[ind[i]])\n",
    "        \n",
    "    x = tempX\n",
    "    \n",
    "    \n",
    "    tempHistX = []\n",
    "    for i in range (0, len(ind)):\n",
    "        tempHistX.append(histx[ind[i]])\n",
    "    histx = tempHistX\n",
    "    \n",
    "    return ent"
   ]
  },
  {
   "cell_type": "code",
   "execution_count": 4,
   "metadata": {},
   "outputs": [
    {
     "name": "stdout",
     "output_type": "stream",
     "text": [
      "Sample size = 132\n",
      "5.73921028466483e-05\n",
      "5.73921028466483e-05\n",
      "[1, 3, 2, 2, 4, 2, 3, 5, 2]\n"
     ]
    },
    {
     "ename": "TypeError",
     "evalue": "object of type 'int' has no len()",
     "output_type": "error",
     "traceback": [
      "\u001b[0;31m---------------------------------------------------------------------------\u001b[0m",
      "\u001b[0;31mTypeError\u001b[0m                                 Traceback (most recent call last)",
      "\u001b[0;32m<ipython-input-4-1eb7c5f1da01>\u001b[0m in \u001b[0;36m<module>\u001b[0;34m()\u001b[0m\n\u001b[0;32m----> 1\u001b[0;31m \u001b[0mentropyEstC\u001b[0m\u001b[0;34m(\u001b[0m\u001b[0;34m[\u001b[0m\u001b[0;36m1\u001b[0m\u001b[0;34m,\u001b[0m \u001b[0;36m3\u001b[0m\u001b[0;34m,\u001b[0m \u001b[0;36m2\u001b[0m\u001b[0;34m,\u001b[0m \u001b[0;36m2\u001b[0m\u001b[0;34m,\u001b[0m \u001b[0;36m4\u001b[0m\u001b[0;34m,\u001b[0m \u001b[0;36m2\u001b[0m\u001b[0;34m,\u001b[0m \u001b[0;36m3\u001b[0m\u001b[0;34m,\u001b[0m \u001b[0;36m5\u001b[0m\u001b[0;34m,\u001b[0m \u001b[0;36m2\u001b[0m\u001b[0;34m]\u001b[0m\u001b[0;34m)\u001b[0m\u001b[0;34m\u001b[0m\u001b[0m\n\u001b[0m",
      "\u001b[0;32m<ipython-input-3-513e9fe5bdbf>\u001b[0m in \u001b[0;36mentropyEstC\u001b[0;34m(f)\u001b[0m\n\u001b[1;32m     81\u001b[0m     \u001b[0;31m# Set up the first LP\u001b[0m\u001b[0;34m\u001b[0m\u001b[0;34m\u001b[0m\u001b[0m\n\u001b[1;32m     82\u001b[0m     \u001b[0mLPmass\u001b[0m \u001b[0;34m=\u001b[0m \u001b[0;36m0\u001b[0m\u001b[0;34m\u001b[0m\u001b[0m\n\u001b[0;32m---> 83\u001b[0;31m     \u001b[0;32mfor\u001b[0m \u001b[0mj\u001b[0m \u001b[0;32min\u001b[0m \u001b[0mrange\u001b[0m \u001b[0;34m(\u001b[0m\u001b[0;36m0\u001b[0m\u001b[0;34m,\u001b[0m \u001b[0mlen\u001b[0m\u001b[0;34m(\u001b[0m\u001b[0mx\u001b[0m\u001b[0;34m)\u001b[0m\u001b[0;34m)\u001b[0m\u001b[0;34m:\u001b[0m\u001b[0;34m\u001b[0m\u001b[0m\n\u001b[0m\u001b[1;32m     84\u001b[0m         \u001b[0mLPmass\u001b[0m \u001b[0;34m+=\u001b[0m \u001b[0mx\u001b[0m\u001b[0;34m[\u001b[0m\u001b[0mj\u001b[0m\u001b[0;34m]\u001b[0m \u001b[0;34m*\u001b[0m \u001b[0mhistx\u001b[0m\u001b[0;34m[\u001b[0m\u001b[0mj\u001b[0m\u001b[0;34m]\u001b[0m\u001b[0;34m\u001b[0m\u001b[0m\n\u001b[1;32m     85\u001b[0m     \u001b[0mLPmass\u001b[0m \u001b[0;34m=\u001b[0m \u001b[0;36m1\u001b[0m \u001b[0;34m-\u001b[0m \u001b[0mLPmass\u001b[0m \u001b[0;31m#amount of probability mass in the LP region\u001b[0m\u001b[0;34m\u001b[0m\u001b[0m\n",
      "\u001b[0;31mTypeError\u001b[0m: object of type 'int' has no len()"
     ]
    }
   ],
   "source": [
    "entropyEstC([1, 3, 2, 2, 4, 2, 3, 5, 2])"
   ]
  },
  {
   "cell_type": "code",
   "execution_count": null,
   "metadata": {
    "collapsed": true
   },
   "outputs": [],
   "source": []
  }
 ],
 "metadata": {
  "kernelspec": {
   "display_name": "Python 3",
   "language": "python",
   "name": "python3"
  },
  "language_info": {
   "codemirror_mode": {
    "name": "ipython",
    "version": 3
   },
   "file_extension": ".py",
   "mimetype": "text/x-python",
   "name": "python",
   "nbconvert_exporter": "python",
   "pygments_lexer": "ipython3",
   "version": "3.6.5"
  }
 },
 "nbformat": 4,
 "nbformat_minor": 2
}
