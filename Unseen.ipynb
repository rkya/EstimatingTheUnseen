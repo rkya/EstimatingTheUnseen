{
 "cells": [
  {
   "cell_type": "code",
   "execution_count": 1,
   "metadata": {
    "collapsed": true
   },
   "outputs": [],
   "source": [
    "import numpy as np\n",
    "np.seterr(invalid='ignore') \n",
    "#np.seterr(divide='ignore') # for case 0/0\n",
    "from scipy import special # for gammaln\n",
    "#import warnings\n",
    "import collections # for Counter"
   ]
  },
  {
   "cell_type": "code",
   "execution_count": 2,
   "metadata": {
    "collapsed": true
   },
   "outputs": [],
   "source": [
    "def int_hist(sample):\n",
    "    \"\"\"get integer histogram of all integer values in range(np.max(sample)+1)\n",
    "    \n",
    "    Args:\n",
    "        sample - integer-valued list\n",
    "    \n",
    "    Returns:\n",
    "        h - h[i] = |{t: sample[t] == i}|\n",
    "        \n",
    "    Examples:\n",
    "        >>> int_hist([0,0,1,5,1,1])\n",
    "        array([2, 3, 0, 0, 0, 1])\n",
    "    \n",
    "    \"\"\"\n",
    "    sample_max = np.max(sample)\n",
    "    return np.histogram(sample, bins=sample_max+1, range=(0,sample_max))[0]"
   ]
  },
  {
   "cell_type": "code",
   "execution_count": 4,
   "metadata": {},
   "outputs": [
    {
     "data": {
      "text/plain": [
       "array([0, 1, 1, 6, 0, 0, 1])"
      ]
     },
     "execution_count": 4,
     "metadata": {},
     "output_type": "execute_result"
    }
   ],
   "source": [
    "int_hist([1, 3,6, 2,3 ,3,3,3,3])"
   ]
  },
  {
   "cell_type": "code",
   "execution_count": 38,
   "metadata": {},
   "outputs": [
    {
     "data": {
      "text/html": [
       "<script>requirejs.config({paths: { 'plotly': ['https://cdn.plot.ly/plotly-latest.min']},});if(!window.Plotly) {{require(['plotly'],function(plotly) {window.Plotly=plotly;});}}</script>"
      ],
      "text/vnd.plotly.v1+html": [
       "<script>requirejs.config({paths: { 'plotly': ['https://cdn.plot.ly/plotly-latest.min']},});if(!window.Plotly) {{require(['plotly'],function(plotly) {window.Plotly=plotly;});}}</script>"
      ]
     },
     "metadata": {},
     "output_type": "display_data"
    },
    {
     "name": "stdout",
     "output_type": "stream",
     "text": [
      "[95, 66, 31, 2, 16, 45, 71, 24, 66, 27, 78, 22, 34, 14, 25, 92, 49, 82, 80, 65, 39, 91, 80, 35, 81, 58, 32, 43, 6, 8, 15, 79, 50, 68, 4, 89, 68, 95, 51, 82, 55, 20, 55, 84, 25, 15, 44, 73, 45, 8, 25, 10, 18, 1, 36, 99, 42, 101, 58, 57, 55, 7, 66, 31, 91, 88, 12, 99, 61, 19, 70, 15, 24, 3, 17, 51, 64, 38, 64, 38, 56, 84, 1, 34, 70, 16, 50, 29, 7, 92, 77, 29, 49, 40, 99, 53, 39, 19, 22, 34]\n",
      "[2, 3, 2, 1, 2, 2, 1, 2, 1, 1, 2, 3, 1, 3, 2, 2, 2, 2, 1, 2, 2, 1, 1, 2, 1, 1, 1, 2, 3, 1, 2, 2, 1, 1, 2, 3, 1, 2, 1, 1, 1, 1, 2, 1, 3, 1, 1, 1, 2, 1, 1, 1, 2, 2, 1, 1, 2, 2, 1, 2, 1, 1, 1]\n",
      "[25, 6, 32]\n",
      "[2, 3, 1]\n"
     ]
    },
    {
     "data": {
      "application/vnd.plotly.v1+json": {
       "data": [
        {
         "type": "bar",
         "uid": "c7a0ae70-f534-11e8-abbc-8c85907299e0",
         "x": [
          2,
          3,
          1
         ],
         "y": [
          25,
          6,
          32
         ]
        }
       ],
       "layout": {}
      },
      "text/html": [
       "<div id=\"f2603f70-1d25-4900-ab82-28a5b3e5d6b9\" style=\"height: 525px; width: 100%;\" class=\"plotly-graph-div\"></div><script type=\"text/javascript\">require([\"plotly\"], function(Plotly) { window.PLOTLYENV=window.PLOTLYENV || {};window.PLOTLYENV.BASE_URL=\"https://plot.ly\";Plotly.newPlot(\"f2603f70-1d25-4900-ab82-28a5b3e5d6b9\", [{\"x\": [2, 3, 1], \"y\": [25, 6, 32], \"type\": \"bar\", \"uid\": \"c7a3bb74-f534-11e8-abbc-8c85907299e0\"}], {}, {\"showLink\": true, \"linkText\": \"Export to plot.ly\"})});</script>"
      ],
      "text/vnd.plotly.v1+html": [
       "<div id=\"f2603f70-1d25-4900-ab82-28a5b3e5d6b9\" style=\"height: 525px; width: 100%;\" class=\"plotly-graph-div\"></div><script type=\"text/javascript\">require([\"plotly\"], function(Plotly) { window.PLOTLYENV=window.PLOTLYENV || {};window.PLOTLYENV.BASE_URL=\"https://plot.ly\";Plotly.newPlot(\"f2603f70-1d25-4900-ab82-28a5b3e5d6b9\", [{\"x\": [2, 3, 1], \"y\": [25, 6, 32], \"type\": \"bar\", \"uid\": \"c7a3bb74-f534-11e8-abbc-8c85907299e0\"}], {}, {\"showLink\": true, \"linkText\": \"Export to plot.ly\"})});</script>"
      ]
     },
     "metadata": {},
     "output_type": "display_data"
    },
    {
     "name": "stdout",
     "output_type": "stream",
     "text": [
      "[]\n"
     ]
    }
   ],
   "source": [
    "import numpy as np\n",
    "import collections\n",
    "import random\n",
    "import plotly.plotly as py\n",
    "import plotly.graph_objs as go\n",
    "from plotly.offline import download_plotlyjs, init_notebook_mode, plot, iplot\n",
    "init_notebook_mode(connected=True)\n",
    "\n",
    "\n",
    "l = []\n",
    "for x in range(100):\n",
    "  l.append(random.randint(1,101))\n",
    "  \n",
    "#print(l)\n",
    "\n",
    "val = []\n",
    "def makeFinger(val, l):\n",
    "    print(l)\n",
    "    counter=collections.Counter(l)\n",
    "    values = list(counter.values())\n",
    "    keys = list(counter.keys())\n",
    "    maxVal = max(values)\n",
    "    print(values)\n",
    "\n",
    "    counter2=collections.Counter(values)\n",
    "    values2 = list(counter2.values())\n",
    "    keys2 = list(counter2.keys())\n",
    "    print(values2) # values2[i] number of elements occurred keys2[i] times\n",
    "    # {f(i) ==> values2[i]} represents number of elements occurred {i ==> keys2[i]} times\n",
    "    print(keys2)\n",
    "    val = values2\n",
    "    data = [go.Bar(\n",
    "            x=keys2,\n",
    "            y=values2\n",
    "    )]\n",
    "\n",
    "    iplot(data, filename='basic-bar')\n",
    "    \n",
    "makeFinger(val, l)\n",
    "# print(values)\n",
    "# print(keys)\n",
    "\n",
    "print(val)"
   ]
  },
  {
   "cell_type": "code",
   "execution_count": 46,
   "metadata": {},
   "outputs": [],
   "source": [
    "def unseen():\n",
    "    k = [25, 6, 32]\n",
    "    gridFactor = 1.05\n",
    "    alpha = .5\n",
    "#     xLPmin = 1/(k*max(10,k))\n",
    "#     min_i=min(k)\n",
    "#     print(min_i)\n",
    "#     if (min_i > 1):\n",
    "#         xLPmin = min_i/k\n",
    "#         print(xLPmin)\n",
    "unseen()"
   ]
  },
  {
   "cell_type": "code",
   "execution_count": null,
   "metadata": {
    "collapsed": true
   },
   "outputs": [],
   "source": []
  },
  {
   "cell_type": "code",
   "execution_count": null,
   "metadata": {
    "collapsed": true
   },
   "outputs": [],
   "source": []
  },
  {
   "cell_type": "code",
   "execution_count": null,
   "metadata": {
    "collapsed": true
   },
   "outputs": [],
   "source": []
  }
 ],
 "metadata": {
  "kernelspec": {
   "display_name": "Python 3",
   "language": "python",
   "name": "python3"
  },
  "language_info": {
   "codemirror_mode": {
    "name": "ipython",
    "version": 3
   },
   "file_extension": ".py",
   "mimetype": "text/x-python",
   "name": "python",
   "nbconvert_exporter": "python",
   "pygments_lexer": "ipython3",
   "version": "3.7.0"
  }
 },
 "nbformat": 4,
 "nbformat_minor": 2
}
