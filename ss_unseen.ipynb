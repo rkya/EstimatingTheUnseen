{
 "cells": [
  {
   "cell_type": "code",
   "execution_count": null,
   "metadata": {},
   "outputs": [],
   "source": [
    "import os\n",
    "import sys\n",
    "import numpy as np\n",
    "\n",
    "#assuming f is a dictionary object in which f[i] represents number of elements that appear i times in a sample\n",
    "def unseen_fn(f):\n",
    "    \n",
    "    #dictionary of probability values\n",
    "    x = {}\n",
    "    #dictionary where histx[i] represents the number of domain elements that occur with probability x[i]\n",
    "    histx = {}\n",
    "    x = {}\n",
    "    \n",
    "    "
   ]
  }
 ],
 "metadata": {
  "kernelspec": {
   "display_name": "Python 3",
   "language": "python",
   "name": "python3"
  },
  "language_info": {
   "codemirror_mode": {
    "name": "ipython",
    "version": 3
   },
   "file_extension": ".py",
   "mimetype": "text/x-python",
   "name": "python",
   "nbconvert_exporter": "python",
   "pygments_lexer": "ipython3",
   "version": "3.6.6"
  }
 },
 "nbformat": 4,
 "nbformat_minor": 2
}
